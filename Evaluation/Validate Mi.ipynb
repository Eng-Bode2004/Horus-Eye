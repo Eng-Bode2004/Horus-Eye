{
 "cells": [
  {
   "cell_type": "code",
   "id": "initial_id",
   "metadata": {
    "collapsed": true,
    "ExecuteTime": {
     "end_time": "2025-06-08T20:02:54.328502Z",
     "start_time": "2025-06-08T20:02:48.729444Z"
    }
   },
   "source": [
    "import os\n",
    "import numpy as np\n",
    "import pandas as pd\n",
    "from keras.models import load_model\n",
    "from sklearn.preprocessing import LabelEncoder\n",
    "from sklearn.metrics import accuracy_score, confusion_matrix, ConfusionMatrixDisplay\n",
    "import matplotlib.pyplot as plt\n",
    "\n",
    "# ---- CONFIG ----\n",
    "validate_dir = r\"C:\\Users\\zezom\\PycharmProjects\\HorusEye\\Data\\Validate\\MI\"\n",
    "channels = ['C3_ref', 'CZ_ref', 'C4_ref']\n",
    "samples_per_trial = 1750\n",
    "model_path = r\"C:\\Users\\zezom\\PycharmProjects\\HorusEye\\best_mi_cnn_model.keras\"\n",
    "validation_csv_path = r\"C:\\Users\\zezom\\PycharmProjects\\HorusEye\\validation.csv\"\n",
    "\n",
    "# ---- Load validation metadata ----\n",
    "val_df = pd.read_csv(validation_csv_path)\n",
    "mi_labels = ['Left', 'Right']\n",
    "val_df = val_df[val_df['label'].isin(mi_labels)]\n",
    "val_df['subject_id'] = val_df['subject_id'].astype(str)\n",
    "print(f\"Loaded {len(val_df)} MI validation trials.\")\n",
    "\n",
    "# ---- Load validation EEG data ----\n",
    "X_val, y_val = [], []\n",
    "missing_files = []\n",
    "for _, row in val_df.iterrows():\n",
    "    file = f\"{row['subject_id']}_{row['trial_session']}_EEGdata_preprocessed.csv\"\n",
    "    file_path = os.path.join(validate_dir, file)\n",
    "    if not os.path.exists(file_path):\n",
    "        missing_files.append(file_path)\n",
    "        continue\n",
    "    df = pd.read_csv(file_path)\n",
    "    start = (row['trial'] - 1) * samples_per_trial\n",
    "    end = row['trial'] * samples_per_trial\n",
    "    trial_data = df[channels].iloc[start:end].values.T\n",
    "    if trial_data.shape[1] == samples_per_trial:\n",
    "        X_val.append(trial_data)\n",
    "        y_val.append(row['label'])\n",
    "\n",
    "if missing_files:\n",
    "    print(f\"Missing files: {missing_files}\")\n",
    "else:\n",
    "    print(\"All files found.\")\n",
    "\n",
    "X_val = np.array(X_val)\n",
    "# Per-trial, per-channel Z-score normalization\n",
    "X_val = (X_val - X_val.mean(axis=-1, keepdims=True)) / (X_val.std(axis=-1, keepdims=True) + 1e-6)\n",
    "\n",
    "le = LabelEncoder()\n",
    "le.fit(['Left', 'Right'])\n",
    "y_val_enc = le.transform(y_val)\n",
    "\n",
    "# ---- Load model ----\n",
    "model = load_model(model_path)\n",
    "\n",
    "# ---- Predict ----\n",
    "y_pred = np.argmax(model.predict(X_val), axis=1)\n",
    "\n",
    "# ---- Metrics ----\n",
    "acc = accuracy_score(y_val_enc, y_pred)\n",
    "print(f\"\\n[RESULT] MI Validation Accuracy: {acc:.4f}\")\n",
    "\n",
    "cm = confusion_matrix(y_val_enc, y_pred)\n",
    "disp = ConfusionMatrixDisplay(cm, display_labels=le.classes_)\n",
    "fig, ax = plt.subplots(figsize=(6,6))\n",
    "disp.plot(ax=ax, cmap='Blues')\n",
    "plt.title(\"CNN Confusion Matrix (MI Validation)\")\n",
    "plt.show()\n",
    "\n",
    "# ---- Class distribution ----\n",
    "unique, counts = np.unique(y_val_enc, return_counts=True)\n",
    "print(\"Validation set class counts:\", dict(zip(le.classes_, counts)))\n",
    "unique_pred, counts_pred = np.unique(y_pred, return_counts=True)\n",
    "print(\"Predicted class counts:\", dict(zip(le.classes_, counts_pred)))\n"
   ],
   "outputs": [
    {
     "name": "stdout",
     "output_type": "stream",
     "text": [
      "Loaded 74 MI validation trials.\n",
      "All files found.\n",
      "\u001B[1m3/3\u001B[0m \u001B[32m━━━━━━━━━━━━━━━━━━━━\u001B[0m\u001B[37m\u001B[0m \u001B[1m1s\u001B[0m 173ms/step\n",
      "\n",
      "[RESULT] MI Validation Accuracy: 0.6000\n"
     ]
    },
    {
     "data": {
      "text/plain": [
       "<Figure size 600x600 with 2 Axes>"
      ],
      "image/png": "[encoded data removed]"
     },
     "metadata": {},
     "output_type": "display_data"
    },
    {
     "name": "stdout",
     "output_type": "stream",
     "text": [
      "Validation set class counts: {'Left': 38, 'Right': 32}\n",
      "Predicted class counts: {'Left': 66, 'Right': 4}\n"
     ]
    }
   ],
   "execution_count": 3
  }
 ],
 "metadata": {
  "kernelspec": {
   "display_name": "Python 3",
   "language": "python",
   "name": "python3"
  },
  "language_info": {
   "codemirror_mode": {
    "name": "ipython",
    "version": 2
   },
   "file_extension": ".py",
   "mimetype": "text/x-python",
   "name": "python",
   "nbconvert_exporter": "python",
   "pygments_lexer": "ipython2",
   "version": "2.7.6"
  }
 },
 "nbformat": 4,
 "nbformat_minor": 5
}
