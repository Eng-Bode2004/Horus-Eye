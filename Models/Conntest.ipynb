{
 "cells": [
  {
   "cell_type": "code",
   "execution_count": null,
   "id": "initial_id",
   "metadata": {
    "collapsed": true
   },
   "outputs": [],
   "source": [
    ""
   ]
  },
  {
   "metadata": {
    "ExecuteTime": {
     "end_time": "2025-06-07T19:19:29.329017Z",
     "start_time": "2025-06-07T19:19:29.298224Z"
    }
   },
   "cell_type": "code",
   "source": [
    "import pandas as pd\n",
    "import os\n",
    "\n",
    "# Path to the main test.csv\n",
    "main_test_csv = r\"C:\\Users\\zezom\\PycharmProjects\\HorusEye\\test.csv\"\n",
    "\n",
    "# Output folders (make sure these exist)\n",
    "mi_dir = r\"C:\\Users\\zezom\\PycharmProjects\\HorusEye\\Data\\Test\\MI\"\n",
    "ssvep_dir = r\"C:\\Users\\zezom\\PycharmProjects\\HorusEye\\Data\\Test\\SSVEP\"\n",
    "os.makedirs(mi_dir, exist_ok=True)\n",
    "os.makedirs(ssvep_dir, exist_ok=True)\n",
    "\n",
    "# Load and clean columns\n",
    "df = pd.read_csv(main_test_csv)\n",
    "df.columns = df.columns.str.strip()\n",
    "\n",
    "# Make sure the paradigm column exists\n",
    "if 'paradigm' not in df.columns:\n",
    "    raise ValueError(\"No 'paradigm' column in test.csv!\")\n",
    "\n",
    "# Split by paradigm\n",
    "mi_df = df[df['paradigm'].str.upper() == \"MI\"]\n",
    "ssvep_df = df[df['paradigm'].str.upper() == \"SSVEP\"]\n",
    "\n",
    "# Save splits\n",
    "mi_df.to_csv(os.path.join(mi_dir, \"test.csv\"), index=False)\n",
    "ssvep_df.to_csv(os.path.join(ssvep_dir, \"test.csv\"), index=False)\n",
    "\n",
    "print(\"✅ test.csv split into MI and SSVEP test sets!\")\n"
   ],
   "id": "6e52798b332433d1",
   "outputs": [
    {
     "ename": "ValueError",
     "evalue": "No 'paradigm' column in test.csv!",
     "output_type": "error",
     "traceback": [
      "\u001B[1;31m---------------------------------------------------------------------------\u001B[0m",
      "\u001B[1;31mValueError\u001B[0m                                Traceback (most recent call last)",
      "Cell \u001B[1;32mIn[7], line 19\u001B[0m\n\u001B[0;32m     17\u001B[0m \u001B[38;5;66;03m# Make sure the paradigm column exists\u001B[39;00m\n\u001B[0;32m     18\u001B[0m \u001B[38;5;28;01mif\u001B[39;00m \u001B[38;5;124m'\u001B[39m\u001B[38;5;124mparadigm\u001B[39m\u001B[38;5;124m'\u001B[39m \u001B[38;5;129;01mnot\u001B[39;00m \u001B[38;5;129;01min\u001B[39;00m df\u001B[38;5;241m.\u001B[39mcolumns:\n\u001B[1;32m---> 19\u001B[0m     \u001B[38;5;28;01mraise\u001B[39;00m \u001B[38;5;167;01mValueError\u001B[39;00m(\u001B[38;5;124m\"\u001B[39m\u001B[38;5;124mNo \u001B[39m\u001B[38;5;124m'\u001B[39m\u001B[38;5;124mparadigm\u001B[39m\u001B[38;5;124m'\u001B[39m\u001B[38;5;124m column in test.csv!\u001B[39m\u001B[38;5;124m\"\u001B[39m)\n\u001B[0;32m     21\u001B[0m \u001B[38;5;66;03m# Split by paradigm\u001B[39;00m\n\u001B[0;32m     22\u001B[0m mi_df \u001B[38;5;241m=\u001B[39m df[df[\u001B[38;5;124m'\u001B[39m\u001B[38;5;124mparadigm\u001B[39m\u001B[38;5;124m'\u001B[39m]\u001B[38;5;241m.\u001B[39mstr\u001B[38;5;241m.\u001B[39mupper() \u001B[38;5;241m==\u001B[39m \u001B[38;5;124m\"\u001B[39m\u001B[38;5;124mMI\u001B[39m\u001B[38;5;124m\"\u001B[39m]\n",
      "\u001B[1;31mValueError\u001B[0m: No 'paradigm' column in test.csv!"
     ]
    }
   ],
   "execution_count": 7
  },
  {
   "metadata": {
    "ExecuteTime": {
     "end_time": "2025-06-07T19:20:03.318978Z",
     "start_time": "2025-06-07T19:20:03.309752Z"
    }
   },
   "cell_type": "code",
   "source": [
    "import pandas as pd\n",
    "df = pd.read_csv(r\"C:\\Users\\zezom\\PycharmProjects\\HorusEye\\test.csv\")\n",
    "print(df.columns)\n",
    "print(df.head())\n"
   ],
   "id": "704ce49f758d3306",
   "outputs": [
    {
     "name": "stdout",
     "output_type": "stream",
     "text": [
      "Index(['id', 'subject_id', 'task', 'trial_session', 'trial'], dtype='object')\n",
      "     id subject_id task  trial_session  trial\n",
      "0  4901        S36   MI              1      1\n",
      "1  4902        S36   MI              1      2\n",
      "2  4903        S36   MI              1      3\n",
      "3  4904        S36   MI              1      4\n",
      "4  4905        S36   MI              1      5\n"
     ]
    }
   ],
   "execution_count": 8
  },
  {
   "metadata": {
    "ExecuteTime": {
     "end_time": "2025-06-07T19:29:19.083898Z",
     "start_time": "2025-06-07T19:29:12.211666Z"
    }
   },
   "cell_type": "code",
   "source": [
    "import os\n",
    "import numpy as np\n",
    "import pandas as pd\n",
    "import pickle\n",
    "from keras.models import load_model\n",
    "\n",
    "# --- CONFIG ---\n",
    "base_dir = r\"C:\\Users\\zezom\\PycharmProjects\\HorusEye\"\n",
    "test_csv = os.path.join(base_dir, \"test.csv\")\n",
    "\n",
    "mi_model_path = os.path.join(base_dir, \"mi_model.keras\")\n",
    "mi_encoder_path = os.path.join(base_dir, \"mi_label_encoder.pkl\")\n",
    "mi_dl_ready_dir = os.path.join(base_dir, \"Data\", \"Test\", \"MI\", \"DL_ready\")\n",
    "\n",
    "ssvep_model_path = os.path.join(base_dir, \"ssvep_model.keras\")\n",
    "ssvep_encoder_path = os.path.join(base_dir, \"ssvep_label_encoder.pkl\")\n",
    "ssvep_dl_ready_dir = os.path.join(base_dir, \"Data\", \"Test\", \"SSVEP\", \"DL_ready\")\n",
    "\n",
    "submission_csv = os.path.join(base_dir, \"submission.csv\")\n",
    "\n",
    "# --- LOAD MODELS AND ENCODERS ---\n",
    "mi_model = load_model(mi_model_path)\n",
    "with open(mi_encoder_path, \"rb\") as f:\n",
    "    mi_label_encoder = pickle.load(f)\n",
    "\n",
    "ssvep_model = load_model(ssvep_model_path)\n",
    "with open(ssvep_encoder_path, \"rb\") as f:\n",
    "    ssvep_label_encoder = pickle.load(f)\n",
    "\n",
    "# --- LOAD TEST CSV ---\n",
    "df = pd.read_csv(test_csv)\n",
    "\n",
    "# --- Helper: Predict function for a row ---\n",
    "def predict_row(row, dl_ready_dir, model, label_encoder):\n",
    "    subject = str(row['subject_id']).strip()\n",
    "    session = str(row['trial_session']).strip()\n",
    "    trial_num = int(row['trial']) - 1  # 0-based index!\n",
    "    npy_path = os.path.join(dl_ready_dir, f\"{subject}_{session}_EEGdata_preprocessed_DLready.npy\")\n",
    "    if not os.path.exists(npy_path):\n",
    "        print(f\"Missing EEG file for row id={row['id']}: {npy_path}\")\n",
    "        return 'UNKNOWN'  # You can choose a placeholder or most common class\n",
    "    epochs = np.load(npy_path)\n",
    "    if trial_num >= epochs.shape[0]:\n",
    "        print(f\"Trial {trial_num + 1} out of range for file: {npy_path}\")\n",
    "        return 'UNKNOWN'\n",
    "    X = epochs[trial_num]  # shape: (channels, samples)\n",
    "    # Transpose to (1, samples, channels) for model\n",
    "    X = np.transpose(X, (1, 0))[np.newaxis, ...]\n",
    "    y_pred = model.predict(X, verbose=0)\n",
    "    label = label_encoder.inverse_transform([np.argmax(y_pred)])[0]\n",
    "    return label\n",
    "\n",
    "# --- Predict for all test rows ---\n",
    "results = []\n",
    "\n",
    "for idx, row in df.iterrows():\n",
    "    task = str(row['task']).strip().upper()\n",
    "    if task == 'MI':\n",
    "        label = predict_row(row, mi_dl_ready_dir, mi_model, mi_label_encoder)\n",
    "    elif task == 'SSVEP':\n",
    "        label = predict_row(row, ssvep_dl_ready_dir, ssvep_model, ssvep_label_encoder)\n",
    "    else:\n",
    "        label = 'UNKNOWN'\n",
    "        print(f\"Unknown task for row id={row['id']}: {task}\")\n",
    "    results.append(label)\n",
    "\n",
    "df['label'] = results\n",
    "\n",
    "# --- Diagnostics ---\n",
    "missing = df[df['label'] == 'UNKNOWN']\n",
    "if not missing.empty:\n",
    "    print(\"\\nRows with missing or failed predictions:\")\n",
    "    print(missing[['id', 'subject_id', 'task', 'trial_session', 'trial']])\n",
    "\n",
    "print(f\"\\nTotal missing predictions: {len(missing)}\")\n",
    "\n",
    "# --- Prepare submission file ---\n",
    "submission = df[['id', 'label']]\n",
    "submission.to_csv(submission_csv, index=False)\n",
    "print(f\"Submission saved: {submission_csv}\")\n"
   ],
   "id": "3ea7fa88fb129eed",
   "outputs": [
    {
     "name": "stderr",
     "output_type": "stream",
     "text": [
      "C:\\Users\\zezom\\miniconda3\\Lib\\site-packages\\keras\\src\\saving\\saving_lib.py:802: UserWarning: Skipping variable loading for optimizer 'rmsprop', because it has 21 variables whereas the saved optimizer has 40 variables. \n",
      "  saveable.load_own_variables(weights_store.get(inner_path))\n"
     ]
    },
    {
     "name": "stdout",
     "output_type": "stream",
     "text": [
      "Trial 9 out of range for file: C:\\Users\\zezom\\PycharmProjects\\HorusEye\\Data\\Test\\MI\\DL_ready\\S36_1_EEGdata_preprocessed_DLready.npy\n",
      "Trial 10 out of range for file: C:\\Users\\zezom\\PycharmProjects\\HorusEye\\Data\\Test\\MI\\DL_ready\\S36_1_EEGdata_preprocessed_DLready.npy\n",
      "Trial 10 out of range for file: C:\\Users\\zezom\\PycharmProjects\\HorusEye\\Data\\Test\\MI\\DL_ready\\S37_1_EEGdata_preprocessed_DLready.npy\n",
      "Trial 9 out of range for file: C:\\Users\\zezom\\PycharmProjects\\HorusEye\\Data\\Test\\MI\\DL_ready\\S38_1_EEGdata_preprocessed_DLready.npy\n",
      "Trial 10 out of range for file: C:\\Users\\zezom\\PycharmProjects\\HorusEye\\Data\\Test\\MI\\DL_ready\\S38_1_EEGdata_preprocessed_DLready.npy\n",
      "Trial 10 out of range for file: C:\\Users\\zezom\\PycharmProjects\\HorusEye\\Data\\Test\\MI\\DL_ready\\S39_1_EEGdata_preprocessed_DLready.npy\n",
      "Trial 10 out of range for file: C:\\Users\\zezom\\PycharmProjects\\HorusEye\\Data\\Test\\MI\\DL_ready\\S40_1_EEGdata_preprocessed_DLready.npy\n",
      "Trial 4 out of range for file: C:\\Users\\zezom\\PycharmProjects\\HorusEye\\Data\\Test\\SSVEP\\DL_ready\\S36_1_EEGdata_preprocessed_DLready.npy\n",
      "Trial 5 out of range for file: C:\\Users\\zezom\\PycharmProjects\\HorusEye\\Data\\Test\\SSVEP\\DL_ready\\S36_1_EEGdata_preprocessed_DLready.npy\n",
      "Trial 6 out of range for file: C:\\Users\\zezom\\PycharmProjects\\HorusEye\\Data\\Test\\SSVEP\\DL_ready\\S36_1_EEGdata_preprocessed_DLready.npy\n",
      "Trial 7 out of range for file: C:\\Users\\zezom\\PycharmProjects\\HorusEye\\Data\\Test\\SSVEP\\DL_ready\\S36_1_EEGdata_preprocessed_DLready.npy\n",
      "Trial 8 out of range for file: C:\\Users\\zezom\\PycharmProjects\\HorusEye\\Data\\Test\\SSVEP\\DL_ready\\S36_1_EEGdata_preprocessed_DLready.npy\n",
      "Trial 9 out of range for file: C:\\Users\\zezom\\PycharmProjects\\HorusEye\\Data\\Test\\SSVEP\\DL_ready\\S36_1_EEGdata_preprocessed_DLready.npy\n",
      "Trial 10 out of range for file: C:\\Users\\zezom\\PycharmProjects\\HorusEye\\Data\\Test\\SSVEP\\DL_ready\\S36_1_EEGdata_preprocessed_DLready.npy\n",
      "Trial 6 out of range for file: C:\\Users\\zezom\\PycharmProjects\\HorusEye\\Data\\Test\\SSVEP\\DL_ready\\S37_1_EEGdata_preprocessed_DLready.npy\n",
      "Trial 7 out of range for file: C:\\Users\\zezom\\PycharmProjects\\HorusEye\\Data\\Test\\SSVEP\\DL_ready\\S37_1_EEGdata_preprocessed_DLready.npy\n",
      "Trial 8 out of range for file: C:\\Users\\zezom\\PycharmProjects\\HorusEye\\Data\\Test\\SSVEP\\DL_ready\\S37_1_EEGdata_preprocessed_DLready.npy\n",
      "Trial 9 out of range for file: C:\\Users\\zezom\\PycharmProjects\\HorusEye\\Data\\Test\\SSVEP\\DL_ready\\S37_1_EEGdata_preprocessed_DLready.npy\n",
      "Trial 10 out of range for file: C:\\Users\\zezom\\PycharmProjects\\HorusEye\\Data\\Test\\SSVEP\\DL_ready\\S37_1_EEGdata_preprocessed_DLready.npy\n",
      "Trial 4 out of range for file: C:\\Users\\zezom\\PycharmProjects\\HorusEye\\Data\\Test\\SSVEP\\DL_ready\\S40_1_EEGdata_preprocessed_DLready.npy\n",
      "Trial 5 out of range for file: C:\\Users\\zezom\\PycharmProjects\\HorusEye\\Data\\Test\\SSVEP\\DL_ready\\S40_1_EEGdata_preprocessed_DLready.npy\n",
      "Trial 6 out of range for file: C:\\Users\\zezom\\PycharmProjects\\HorusEye\\Data\\Test\\SSVEP\\DL_ready\\S40_1_EEGdata_preprocessed_DLready.npy\n",
      "Trial 7 out of range for file: C:\\Users\\zezom\\PycharmProjects\\HorusEye\\Data\\Test\\SSVEP\\DL_ready\\S40_1_EEGdata_preprocessed_DLready.npy\n",
      "Trial 8 out of range for file: C:\\Users\\zezom\\PycharmProjects\\HorusEye\\Data\\Test\\SSVEP\\DL_ready\\S40_1_EEGdata_preprocessed_DLready.npy\n",
      "Trial 9 out of range for file: C:\\Users\\zezom\\PycharmProjects\\HorusEye\\Data\\Test\\SSVEP\\DL_ready\\S40_1_EEGdata_preprocessed_DLready.npy\n",
      "Trial 10 out of range for file: C:\\Users\\zezom\\PycharmProjects\\HorusEye\\Data\\Test\\SSVEP\\DL_ready\\S40_1_EEGdata_preprocessed_DLready.npy\n",
      "\n",
      "Rows with missing or failed predictions:\n",
      "      id subject_id   task  trial_session  trial\n",
      "8   4909        S36     MI              1      9\n",
      "9   4910        S36     MI              1     10\n",
      "19  4920        S37     MI              1     10\n",
      "28  4929        S38     MI              1      9\n",
      "29  4930        S38     MI              1     10\n",
      "39  4940        S39     MI              1     10\n",
      "49  4950        S40     MI              1     10\n",
      "53  4954        S36  SSVEP              1      4\n",
      "54  4955        S36  SSVEP              1      5\n",
      "55  4956        S36  SSVEP              1      6\n",
      "56  4957        S36  SSVEP              1      7\n",
      "57  4958        S36  SSVEP              1      8\n",
      "58  4959        S36  SSVEP              1      9\n",
      "59  4960        S36  SSVEP              1     10\n",
      "65  4966        S37  SSVEP              1      6\n",
      "66  4967        S37  SSVEP              1      7\n",
      "67  4968        S37  SSVEP              1      8\n",
      "68  4969        S37  SSVEP              1      9\n",
      "69  4970        S37  SSVEP              1     10\n",
      "93  4994        S40  SSVEP              1      4\n",
      "94  4995        S40  SSVEP              1      5\n",
      "95  4996        S40  SSVEP              1      6\n",
      "96  4997        S40  SSVEP              1      7\n",
      "97  4998        S40  SSVEP              1      8\n",
      "98  4999        S40  SSVEP              1      9\n",
      "99  5000        S40  SSVEP              1     10\n",
      "\n",
      "Total missing predictions: 26\n",
      "Submission saved: C:\\Users\\zezom\\PycharmProjects\\HorusEye\\submission.csv\n"
     ]
    }
   ],
   "execution_count": 11
  },
  {
   "metadata": {
    "ExecuteTime": {
     "end_time": "2025-06-07T19:34:31.788598Z",
     "start_time": "2025-06-07T19:34:31.781600Z"
    }
   },
   "cell_type": "code",
   "source": [
    "arr = np.load(r\"C:\\Users\\zezom\\PycharmProjects\\HorusEye\\Data\\Test\\MI\\DL_ready\\S36_1_EEGdata_preprocessed_DLready.npy\")\n",
    "print(arr.shape)  # Should be (10, channels, samples)"
   ],
   "id": "785cd49b206527e3",
   "outputs": [
    {
     "name": "stdout",
     "output_type": "stream",
     "text": [
      "(8, 3, 2250)\n"
     ]
    }
   ],
   "execution_count": 12
  }
 ],
 "metadata": {
  "kernelspec": {
   "display_name": "Python 3",
   "language": "python",
   "name": "python3"
  },
  "language_info": {
   "codemirror_mode": {
    "name": "ipython",
    "version": 2
   },
   "file_extension": ".py",
   "mimetype": "text/x-python",
   "name": "python",
   "nbconvert_exporter": "python",
   "pygments_lexer": "ipython2",
   "version": "2.7.6"
  }
 },
 "nbformat": 4,
 "nbformat_minor": 5
}
