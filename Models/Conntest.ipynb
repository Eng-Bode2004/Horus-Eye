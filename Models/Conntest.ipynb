{
 "cells": [
  {
   "cell_type": "code",
   "id": "initial_id",
   "metadata": {
    "collapsed": true
   },
   "source": [
    ""
   ],
   "outputs": [],
   "execution_count": null
  },
  {
   "metadata": {},
   "cell_type": "code",
   "source": [
    "import pandas as pd\n",
    "import os\n",
    "\n",
    "# Path to the main test.csv\n",
    "main_test_csv = r\"C:\\Users\\zezom\\PycharmProjects\\HorusEye\\test.csv\"\n",
    "\n",
    "# Output folders (make sure these exist)\n",
    "mi_dir = r\"C:\\Users\\zezom\\PycharmProjects\\HorusEye\\Data\\Test\\MI\"\n",
    "ssvep_dir = r\"C:\\Users\\zezom\\PycharmProjects\\HorusEye\\Data\\Test\\SSVEP\"\n",
    "os.makedirs(mi_dir, exist_ok=True)\n",
    "os.makedirs(ssvep_dir, exist_ok=True)\n",
    "\n",
    "# Load and clean columns\n",
    "df = pd.read_csv(main_test_csv)\n",
    "df.columns = df.columns.str.strip()\n",
    "\n",
    "# Make sure the paradigm column exists\n",
    "if 'paradigm' not in df.columns:\n",
    "    raise ValueError(\"No 'paradigm' column in test.csv!\")\n",
    "\n",
    "# Split by paradigm\n",
    "mi_df = df[df['paradigm'].str.upper() == \"MI\"]\n",
    "ssvep_df = df[df['paradigm'].str.upper() == \"SSVEP\"]\n",
    "\n",
    "# Save splits\n",
    "mi_df.to_csv(os.path.join(mi_dir, \"test.csv\"), index=False)\n",
    "ssvep_df.to_csv(os.path.join(ssvep_dir, \"test.csv\"), index=False)\n",
    "\n",
    "print(\"✅ test.csv split into MI and SSVEP test sets!\")\n"
   ],
   "id": "6e52798b332433d1",
   "outputs": [],
   "execution_count": null
  },
  {
   "metadata": {},
   "cell_type": "code",
   "source": [
    "import pandas as pd\n",
    "df = pd.read_csv(r\"C:\\Users\\zezom\\PycharmProjects\\HorusEye\\test.csv\")\n",
    "print(df.columns)\n",
    "print(df.head())\n"
   ],
   "id": "704ce49f758d3306",
   "outputs": [],
   "execution_count": null
  },
  {
   "metadata": {},
   "cell_type": "code",
   "source": [
    "import os\n",
    "import numpy as np\n",
    "import pandas as pd\n",
    "import pickle\n",
    "from scipy.signal import welch\n",
    "from tqdm import tqdm\n",
    "\n",
    "# --- SETTINGS: SELECT TASK ---\n",
    "MODE = \"SSVEP\"  # or \"MI\"\n",
    "\n",
    "test_csv_path = r\"C:\\Users\\zezom\\PycharmProjects\\HorusEye\\test.csv\"\n",
    "submission_path = r\"C:\\Users\\zezom\\PycharmProjects\\HorusEye/submission.csv\"\n",
    "samples_per_trial = 1750\n",
    "sampling_rate = 250\n",
    "\n",
    "if MODE == \"SSVEP\":\n",
    "    csv_data_dir = r\"C:\\Users\\zezom\\PycharmProjects\\HorusEye\\Data\\Test\\SSVEP\"\n",
    "    svm_model_path = r\"C:\\Users\\zezom\\PycharmProjects\\HorusEye/svm_ssvep_model.pkl\"\n",
    "    encoder_path = r\"C:\\Users\\zezom\\PycharmProjects\\HorusEye/svm_ssvep_label_encoder.pkl\"\n",
    "    channels = None  # Use all columns\n",
    "    psd_band = (5, 45)\n",
    "elif MODE == \"MI\":\n",
    "    csv_data_dir = r\"C:\\Users\\zezom\\PycharmProjects\\HorusEye\\Data\\Test\\MI\"\n",
    "    svm_model_path = r\"C:\\Users\\zezom\\PycharmProjects\\HorusEye/svm_mi_model.pkl\"\n",
    "    encoder_path = r\"C:\\Users\\zezom\\PycharmProjects\\HorusEye/svm_mi_label_encoder.pkl\"\n",
    "    channels = ['C3', 'C4']  # Use only MI channels\n",
    "    mi_bands = ['mu', 'beta']  # Expected per your MI SVM code\n",
    "else:\n",
    "    raise ValueError(\"MODE must be 'SSVEP' or 'MI'\")\n",
    "\n",
    "# --- Load Model and Encoder ---\n",
    "with open(svm_model_path, \"rb\") as f:\n",
    "    svm = pickle.load(f)\n",
    "with open(encoder_path, \"rb\") as f:\n",
    "    label_encoder = pickle.load(f)\n",
    "\n",
    "# --- Load Test Metadata ---\n",
    "test_df = pd.read_csv(test_csv_path)\n",
    "print(f\"[INFO] Loaded {len(test_df)} test trials\")\n",
    "\n",
    "results = []\n",
    "\n",
    "for i, row in tqdm(test_df.iterrows(), total=len(test_df)):\n",
    "    trial_id = row['id']\n",
    "    subject = str(row['subject_id']).strip()\n",
    "    session = str(row['trial_session']).strip()\n",
    "    trial_num = int(row['trial'])\n",
    "\n",
    "    if MODE == \"SSVEP\":\n",
    "        csv_path = os.path.join(csv_data_dir, f\"{subject}_{session}_EEGdata_preprocessed.csv\")\n",
    "        if not os.path.exists(csv_path):\n",
    "            print(f\"[MISSING] {csv_path} for trial {trial_id}\")\n",
    "            results.append((trial_id, 'UNKNOWN'))\n",
    "            continue\n",
    "        try:\n",
    "            df = pd.read_csv(csv_path)\n",
    "            start_idx = (trial_num - 1) * samples_per_trial\n",
    "            end_idx = trial_num * samples_per_trial\n",
    "            trial_data = df.iloc[start_idx:end_idx].values\n",
    "            if trial_data.shape[0] != samples_per_trial:\n",
    "                print(f\"[SKIP] {csv_path} trial {trial_id} - insufficient samples\")\n",
    "                results.append((trial_id, 'UNKNOWN'))\n",
    "                continue\n",
    "            # --- PSD Extraction (as in training) ---\n",
    "            psd_features = []\n",
    "            for ch in range(trial_data.shape[1]):\n",
    "                freqs, psd = welch(trial_data[:, ch], fs=sampling_rate, nperseg=256)\n",
    "                band = (freqs >= psd_band[0]) & (freqs <= psd_band[1])\n",
    "                psd_features.extend(psd[band])\n",
    "            X_test_feat = np.array(psd_features).reshape(1, -1)\n",
    "            pred_idx = svm.predict(X_test_feat)[0]\n",
    "            pred_label = label_encoder.inverse_transform([pred_idx])[0]\n",
    "            results.append((trial_id, pred_label))\n",
    "        except Exception as e:\n",
    "            print(f\"[ERROR] {csv_path} trial {trial_id}: {e}\")\n",
    "            results.append((trial_id, 'UNKNOWN'))\n",
    "\n",
    "    elif MODE == \"MI\":\n",
    "        # For MI, loop over channels/bands and reconstruct feature vector\n",
    "        feature_vec = []\n",
    "        incomplete = False\n",
    "        for ch in channels:\n",
    "            for band in mi_bands:\n",
    "                mi_band_path = os.path.join(csv_data_dir, f\"{subject}_{session}_EEGdata_preprocessed_{ch}_{band}.csv\")\n",
    "                if not os.path.exists(mi_band_path):\n",
    "                    print(f\"[MISSING] {mi_band_path} for trial {trial_id}\")\n",
    "                    incomplete = True\n",
    "                    break\n",
    "                try:\n",
    "                    df = pd.read_csv(mi_band_path)\n",
    "                    start_idx = (trial_num - 1) * samples_per_trial\n",
    "                    end_idx = trial_num * samples_per_trial\n",
    "                    trial_data = df.iloc[start_idx:end_idx].values\n",
    "                    if trial_data.shape[0] != samples_per_trial:\n",
    "                        print(f\"[SKIP] {mi_band_path} trial {trial_id} - insufficient samples\")\n",
    "                        incomplete = True\n",
    "                        break\n",
    "                    feature_vec.extend(trial_data.flatten())\n",
    "                except Exception as e:\n",
    "                    print(f\"[ERROR] {mi_band_path} trial {trial_id}: {e}\")\n",
    "                    incomplete = True\n",
    "                    break\n",
    "            if incomplete:\n",
    "                break\n",
    "        if incomplete or not feature_vec:\n",
    "            results.append((trial_id, 'UNKNOWN'))\n",
    "            continue\n",
    "        try:\n",
    "            X_test_feat = np.array(feature_vec).reshape(1, -1)\n",
    "            pred_idx = svm.predict(X_test_feat)[0]\n",
    "            pred_label = label_encoder.inverse_transform([pred_idx])[0]\n",
    "            results.append((trial_id, pred_label))\n",
    "        except Exception as e:\n",
    "            print(f\"[ERROR][MI] Prediction failed for {trial_id}: {e}\")\n",
    "            results.append((trial_id, 'UNKNOWN'))\n",
    "\n",
    "# --- Make submission DataFrame ---\n",
    "submit_df = pd.DataFrame(results, columns=['id', 'label'])\n",
    "submit_df.to_csv(submission_path, index=False)\n",
    "print(f\"[INFO] Submission saved to {submission_path}\")\n"
   ],
   "id": "3ea7fa88fb129eed",
   "outputs": [],
   "execution_count": null
  },
  {
   "metadata": {},
   "cell_type": "code",
   "source": [
    "import pandas as pd\n",
    "\n",
    "submission_path = r\"C:\\Users\\zezom\\PycharmProjects\\HorusEye\\submission.csv\"\n",
    "df = pd.read_csv(submission_path)\n",
    "\n",
    "# Overview\n",
    "print(df['label'].value_counts())\n",
    "\n",
    "# Check if any UNKNOWN remain\n",
    "unknowns = df[df['label'] == 'UNKNOWN']\n",
    "print(f\"Total UNKNOWN: {len(unknowns)}\")\n",
    "if not unknowns.empty:\n",
    "    print(unknowns[['id']])\n"
   ],
   "id": "785cd49b206527e3",
   "outputs": [],
   "execution_count": null
  },
  {
   "metadata": {},
   "cell_type": "code",
   "source": "print(f\"[MISSING FILE] {csv_path}\")\n",
   "id": "76f94a09cece015a",
   "outputs": [],
   "execution_count": null
  },
  {
   "metadata": {},
   "cell_type": "markdown",
   "source": "# Fixing",
   "id": "77debfaa049adc27"
  },
  {
   "metadata": {
    "ExecuteTime": {
     "end_time": "2025-06-08T20:15:09.635072Z",
     "start_time": "2025-06-08T20:15:07.689033Z"
    }
   },
   "cell_type": "code",
   "source": [
    "import numpy as np\n",
    "import pandas as pd\n",
    "import tensorflow as tf\n",
    "from keras.models import load_model\n",
    "from sklearn.preprocessing import LabelEncoder\n",
    "\n",
    "# --- SETTINGS ---\n",
    "model_path = r\"C:\\Users\\zezom\\PycharmProjects\\HorusEye\\best_mi_cnn_model.keras\"\n",
    "data_path = r\"C:\\Users\\zezom\\PycharmProjects\\HorusEye\\Data\\Test\\MI\\S38_1_EEGdata_preprocessed.csv\"\n",
    "channels = ['C3_ref', 'CZ_ref', 'C4_ref']\n",
    "samples_per_trial = 1750\n",
    "trial_number = 1  # ⬅️ Change this to select a trial\n",
    "\n",
    "# --- Load Pre-trained CNN Model ---\n",
    "model = load_model(model_path)\n",
    "print(\"[INFO] CNN model loaded.\")\n",
    "\n",
    "# --- Load EEG Data for Selected Trial ---\n",
    "df = pd.read_csv(data_path)\n",
    "start = (trial_number - 1) * samples_per_trial\n",
    "end = trial_number * samples_per_trial\n",
    "\n",
    "# Extract trial segment\n",
    "trial_data = df[channels].iloc[start:end].values.T  # (channels, samples)\n",
    "\n",
    "# --- Verify Sample Length ---\n",
    "if trial_data.shape[1] != samples_per_trial:\n",
    "    raise ValueError(f\"[ERROR] Trial {trial_number} is incomplete: {trial_data.shape}\")\n",
    "\n",
    "# --- Normalize EEG Trial (Z-score) ---\n",
    "X_trial = (trial_data - np.mean(trial_data, axis=-1, keepdims=True)) / (np.std(trial_data, axis=-1, keepdims=True) + 1e-6)\n",
    "X_trial = X_trial[np.newaxis, ...]  # (1, channels, samples)\n",
    "\n",
    "# --- Predict ---\n",
    "y_prob = model.predict(X_trial)\n",
    "y_pred = np.argmax(y_prob, axis=1)[0]\n",
    "\n",
    "# --- Decode Label ---\n",
    "label_encoder = LabelEncoder()\n",
    "label_encoder.classes_ = np.array(['Left', 'Right'])  # Make sure this matches training\n",
    "predicted_label = label_encoder.inverse_transform([y_pred])[0]\n",
    "\n",
    "print(f\"[RESULT] CNN Prediction for Trial {trial_number}: {predicted_label}\")\n"
   ],
   "id": "ffc8efff6990bcea",
   "outputs": [
    {
     "name": "stdout",
     "output_type": "stream",
     "text": [
      "[INFO] CNN model loaded.\n",
      "\u001B[1m1/1\u001B[0m \u001B[32m━━━━━━━━━━━━━━━━━━━━\u001B[0m\u001B[37m\u001B[0m \u001B[1m1s\u001B[0m 1s/step\n",
      "[RESULT] CNN Prediction for Trial 1: Left\n"
     ]
    }
   ],
   "execution_count": 49
  },
  {
   "metadata": {
    "ExecuteTime": {
     "end_time": "2025-06-08T18:42:09.938494Z",
     "start_time": "2025-06-08T18:42:09.933370Z"
    }
   },
   "cell_type": "code",
   "source": "print(\"Expected input shape:\", model.input_shape)\n",
   "id": "26066869e7ae0f2e",
   "outputs": [
    {
     "name": "stdout",
     "output_type": "stream",
     "text": [
      "Expected input shape: (None, 4, 1750)\n"
     ]
    }
   ],
   "execution_count": 3
  },
  {
   "metadata": {
    "ExecuteTime": {
     "end_time": "2025-06-08T20:12:36.641046Z",
     "start_time": "2025-06-08T20:12:35.566838Z"
    }
   },
   "cell_type": "code",
   "source": [
    "import pandas as pd\n",
    "import numpy as np\n",
    "import pickle\n",
    "from scipy.signal import welch\n",
    "\n",
    "# Paths and model\n",
    "csv_path = r\"C:\\Users\\zezom\\PycharmProjects\\HorusEye\\Data\\Test\\SSVEP\\S40_1_EEGdata_preprocessed.csv\"\n",
    "model_path = r\"C:\\Users\\zezom\\PycharmProjects\\HorusEye\\svm_ssvep_model.pkl\"\n",
    "encoder_path = r\"C:\\Users\\zezom\\PycharmProjects\\HorusEye\\svm_ssvep_label_encoder.pkl\"\n",
    "\n",
    "with open(model_path, \"rb\") as f:\n",
    "    ssvep_svm = pickle.load(f)\n",
    "with open(encoder_path, \"rb\") as f:\n",
    "    ssvep_label_encoder = pickle.load(f)\n",
    "\n",
    "samples_per_trial = 1750\n",
    "sampling_rate = 250\n",
    "psd_band = (5, 45)\n",
    "\n",
    "def get_ssvep_psd_features(trial_number):\n",
    "    df = pd.read_csv(csv_path)\n",
    "    start_idx = (trial_number - 1) * samples_per_trial\n",
    "    end_idx = trial_number * samples_per_trial\n",
    "    trial_data = df.iloc[start_idx:end_idx].values\n",
    "    if trial_data.shape[0] != samples_per_trial:\n",
    "        raise ValueError(f\"Trial {trial_number} has insufficient samples\")\n",
    "    psd_features = []\n",
    "    for ch in range(trial_data.shape[1]):\n",
    "        freqs, psd = welch(trial_data[:, ch], fs=sampling_rate, nperseg=256)\n",
    "        band = (freqs >= psd_band[0]) & (freqs <= psd_band[1])\n",
    "        psd_features.extend(psd[band])\n",
    "    return np.array(psd_features).reshape(1, -1)\n",
    "\n",
    "TRIAL_NUMBER = 10 # Change as needed\n",
    "X_test = get_ssvep_psd_features(TRIAL_NUMBER)\n",
    "y_pred_idx = ssvep_svm.predict(X_test)[0]\n",
    "y_pred_label = ssvep_label_encoder.inverse_transform([y_pred_idx])[0]\n",
    "\n",
    "print(f\"SSVEP prediction for trial {TRIAL_NUMBER}: {y_pred_label}\")\n"
   ],
   "id": "210441c61a918404",
   "outputs": [
    {
     "name": "stdout",
     "output_type": "stream",
     "text": [
      "[INFO] CNN-LSTM model loaded.\n",
      "[INFO] Loaded DL-ready test data shape: (0, 8, 1750)\n",
      "[INFO] Trials in file: 0\n"
     ]
    },
    {
     "ename": "ValueError",
     "evalue": "Shape mismatch! Got (0, 8, 1750). Expecting (10, 4, 1750) for 10 trials.",
     "output_type": "error",
     "traceback": [
      "\u001B[1;31m---------------------------------------------------------------------------\u001B[0m",
      "\u001B[1;31mValueError\u001B[0m                                Traceback (most recent call last)",
      "Cell \u001B[1;32mIn[38], line 35\u001B[0m\n\u001B[0;32m     31\u001B[0m \u001B[38;5;66;03m# --- Sanity Check Shape ---\u001B[39;00m\n\u001B[0;32m     32\u001B[0m \u001B[38;5;28;01mif\u001B[39;00m (X_test\u001B[38;5;241m.\u001B[39mshape[\u001B[38;5;241m0\u001B[39m] \u001B[38;5;241m<\u001B[39m expected_trials \u001B[38;5;129;01mor\u001B[39;00m\n\u001B[0;32m     33\u001B[0m     X_test\u001B[38;5;241m.\u001B[39mshape[\u001B[38;5;241m1\u001B[39m] \u001B[38;5;241m!=\u001B[39m expected_channels \u001B[38;5;129;01mor\u001B[39;00m\n\u001B[0;32m     34\u001B[0m     X_test\u001B[38;5;241m.\u001B[39mshape[\u001B[38;5;241m2\u001B[39m] \u001B[38;5;241m!=\u001B[39m expected_samples):\n\u001B[1;32m---> 35\u001B[0m     \u001B[38;5;28;01mraise\u001B[39;00m \u001B[38;5;167;01mValueError\u001B[39;00m(\n\u001B[0;32m     36\u001B[0m         \u001B[38;5;124mf\u001B[39m\u001B[38;5;124m\"\u001B[39m\u001B[38;5;124mShape mismatch! Got \u001B[39m\u001B[38;5;132;01m{\u001B[39;00mX_test\u001B[38;5;241m.\u001B[39mshape\u001B[38;5;132;01m}\u001B[39;00m\u001B[38;5;124m. \u001B[39m\u001B[38;5;124m\"\u001B[39m\n\u001B[0;32m     37\u001B[0m         \u001B[38;5;124m\"\u001B[39m\u001B[38;5;124mExpecting (10, 4, 1750) for 10 trials.\u001B[39m\u001B[38;5;124m\"\u001B[39m\n\u001B[0;32m     38\u001B[0m     )\n\u001B[0;32m     40\u001B[0m \u001B[38;5;66;03m# --- Normalize Each Trial ---\u001B[39;00m\n\u001B[0;32m     41\u001B[0m X_test_norm \u001B[38;5;241m=\u001B[39m (X_test \u001B[38;5;241m-\u001B[39m X_test\u001B[38;5;241m.\u001B[39mmean(axis\u001B[38;5;241m=\u001B[39m\u001B[38;5;241m-\u001B[39m\u001B[38;5;241m1\u001B[39m, keepdims\u001B[38;5;241m=\u001B[39m\u001B[38;5;28;01mTrue\u001B[39;00m)) \u001B[38;5;241m/\u001B[39m (X_test\u001B[38;5;241m.\u001B[39mstd(axis\u001B[38;5;241m=\u001B[39m\u001B[38;5;241m-\u001B[39m\u001B[38;5;241m1\u001B[39m, keepdims\u001B[38;5;241m=\u001B[39m\u001B[38;5;28;01mTrue\u001B[39;00m) \u001B[38;5;241m+\u001B[39m \u001B[38;5;241m1e-6\u001B[39m)\n",
      "\u001B[1;31mValueError\u001B[0m: Shape mismatch! Got (0, 8, 1750). Expecting (10, 4, 1750) for 10 trials."
     ]
    }
   ],
   "execution_count": 38
  },
  {
   "metadata": {
    "ExecuteTime": {
     "end_time": "2025-06-08T11:47:35.565727Z",
     "start_time": "2025-06-08T11:47:35.554180Z"
    }
   },
   "cell_type": "code",
   "source": [
    "df = pd.read_csv(csv_path)\n",
    "print(f\"Total rows in CSV: {len(df)}\")\n",
    "print(f\"Expected rows for one trial: {samples_per_trial}\")\n",
    "print(f\"Number of full trials: {len(df) // samples_per_trial}\")\n"
   ],
   "id": "63e30c9816181619",
   "outputs": [
    {
     "name": "stdout",
     "output_type": "stream",
     "text": [
      "Total rows in CSV: 44\n",
      "Expected rows for one trial: 1750\n",
      "Number of full trials: 0\n"
     ]
    }
   ],
   "execution_count": 72
  },
  {
   "metadata": {
    "ExecuteTime": {
     "end_time": "2025-06-08T11:48:48.310282Z",
     "start_time": "2025-06-08T11:48:48.300747Z"
    }
   },
   "cell_type": "code",
   "source": [
    "import pandas as pd\n",
    "df = pd.read_csv(r\"C:\\Users\\zezom\\PycharmProjects\\HorusEye\\Data\\Test\\SSVEP\\S36_1_EEGdata_preprocessed.csv\")\n",
    "print(df.shape[0])  # Should be a multiple of 1750\n"
   ],
   "id": "170ea665a99c41ff",
   "outputs": [
    {
     "name": "stdout",
     "output_type": "stream",
     "text": [
      "44\n"
     ]
    }
   ],
   "execution_count": 74
  }
 ],
 "metadata": {
  "kernelspec": {
   "display_name": "Python 3",
   "language": "python",
   "name": "python3"
  },
  "language_info": {
   "codemirror_mode": {
    "name": "ipython",
    "version": 2
   },
   "file_extension": ".py",
   "mimetype": "text/x-python",
   "name": "python",
   "nbconvert_exporter": "python",
   "pygments_lexer": "ipython2",
   "version": "2.7.6"
  }
 },
 "nbformat": 4,
 "nbformat_minor": 5
}
